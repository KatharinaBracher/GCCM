{
 "cells": [
  {
   "cell_type": "code",
   "execution_count": 1,
   "id": "71c65998-d323-48ff-89f9-bce7c3a65074",
   "metadata": {},
   "outputs": [],
   "source": [
    "import numpy as np\n",
    "import pickle\n",
    "import matplotlib.pyplot as plt\n",
    "from matplotlib import rc\n",
    "from scipy.stats import pearsonr\n",
    "import sys  \n",
    "\n",
    "sys.path.insert(1, '../')\n",
    "from optimalEmbedding_sampling import run_optEmbedding_sampling\n",
    "from GCCM_sampling import run_GCCM_sampling\n",
    "\n",
    "sys.path.insert(1, '../scripts')\n",
    "from nobound_diffusionMean import run_versions_\n",
    "from diffusion import remove_linear_signals, run_sim, show_patterns\n",
    "from grid_diffusionMean import run_grid\n",
    "from plot import get_mean, get_interval, make_Eplot, make_Lplot\n",
    "\n",
    "from matplotlib.legend_handler import HandlerLineCollection, HandlerTuple\n",
    "from matplotlib.ticker import MaxNLocator\n",
    "import matplotlib.gridspec as gridspec\n",
    "\n",
    "sys.path.insert(1, '.')\n",
    "\n",
    "%load_ext autoreload\n",
    "%autoreload 2"
   ]
  },
  {
   "cell_type": "code",
   "execution_count": 3,
   "id": "aaa0b154-8804-4b7e-a842-4eaf6c7ae29d",
   "metadata": {},
   "outputs": [],
   "source": [
    "import warnings\n",
    "warnings.simplefilter(action='ignore', category=FutureWarning)\n",
    "warnings.simplefilter(action='ignore', category=RuntimeWarning)"
   ]
  },
  {
   "cell_type": "code",
   "execution_count": 4,
   "id": "7dadb891-0d4b-4abe-ade9-0b47485b4c83",
   "metadata": {},
   "outputs": [],
   "source": [
    "# Set specific font sizes\n",
    "plt.rcParams.update({\n",
    "    'font.size': 12,          # Global font size\n",
    "    'axes.titlesize': 10,     # Title font size\n",
    "    'axes.labelsize': 10,     # X and Y axis labels font size\n",
    "    'xtick.labelsize': 8,    # X-axis tick labels font size\n",
    "    'ytick.labelsize': 8,    # Y-axis tick labels font size\n",
    "    'legend.fontsize': 10,    # Legend font size\n",
    "})\n",
    "rc('font', **{'family': 'serif', 'serif': ['Computer Modern']})\n",
    "rc('text', usetex=True)"
   ]
  },
  {
   "cell_type": "code",
   "execution_count": 5,
   "id": "1bcf7d50-0c31-40e7-98cc-1fc0d25f0d77",
   "metadata": {},
   "outputs": [],
   "source": [
    "size=100\n",
    "np.random.seed(seed=10)\n",
    "X_rand = np.random.rand(size, size)\n",
    "Y_rand = np.random.rand(size, size)"
   ]
  },
  {
   "cell_type": "code",
   "execution_count": 6,
   "id": "69ba1715-df9a-4d28-8407-e583714018c6",
   "metadata": {},
   "outputs": [],
   "source": [
    "dims = np.arange(1,9)\n",
    "lib_sizes = np.arange(10,101,30)"
   ]
  },
  {
   "cell_type": "code",
   "execution_count": 7,
   "id": "d09ec6ab-4a24-4c42-936c-9367e4f9ff1c",
   "metadata": {},
   "outputs": [],
   "source": [
    "c_list = [0,0.01, 0.02, 0.03, 0.04, 0.05, 0.06, 0.07, 0.08, 0.09, 0.1, \n",
    "     0.11, 0.12, 0.13, 0.14]\n",
    "a1 = np.linspace(2.8e-3, 2.8e-5,15)\n",
    "a2 = np.flip(a1)\n",
    "a_list = np.dstack((a1,a2)).squeeze() #np.array(zip(a1,a2))\n",
    "a_ratio = a1/a2"
   ]
  },
  {
   "cell_type": "code",
   "execution_count": 34,
   "id": "78ba36d0-4c88-4d16-a7e7-4cfd4f2012b5",
   "metadata": {},
   "outputs": [
    {
     "name": "stdout",
     "output_type": "stream",
     "text": [
      "[2.8e-03 2.8e-05] ratio  100.0\n",
      "[0.002602 0.000226] ratio  11.513274336283205\n",
      "[0.002404 0.000424] ratio  5.669811320754718\n",
      "[0.002206 0.000622] ratio  3.5466237942122203\n",
      "[0.002008 0.00082 ] ratio  2.448780487804878\n",
      "[0.00181  0.001018] ratio  1.7779960707269158\n",
      "[0.001612 0.001216] ratio  1.3256578947368423\n",
      "[0.001414 0.001414] ratio  1.0\n",
      "[0.001216 0.001612] ratio  0.7543424317617865\n",
      "[0.001018 0.00181 ] ratio  0.5624309392265192\n",
      "[0.00082  0.002008] ratio  0.40836653386454186\n",
      "[0.000622 0.002206] ratio  0.2819582955575701\n",
      "[0.000424 0.002404] ratio  0.17637271214642258\n",
      "[0.000226 0.002602] ratio  0.08685626441199064\n",
      "[2.8e-05 2.8e-03] ratio  0.01\n"
     ]
    }
   ],
   "source": [
    "for a, r in zip(a_list, a_ratio):\n",
    "    print(a, 'ratio ',r )"
   ]
  },
  {
   "cell_type": "markdown",
   "id": "af8d8d26-ba1a-464a-b48b-fef4c0909a25",
   "metadata": {},
   "source": [
    "# Visualize bounds 1, 0.01, 10"
   ]
  },
  {
   "cell_type": "code",
   "execution_count": null,
   "id": "126f1861-11b9-496b-9daa-a3848a04c0bc",
   "metadata": {},
   "outputs": [],
   "source": [
    "sample=50\n",
    "c=0.1\n",
    "a1 = 2.800e-04\n",
    "a2 = 2.800e-04   \n",
    "\n",
    "results_diffsame = run_versions_(a1=a1, a2=a2, c=c, sample=sample)"
   ]
  },
  {
   "cell_type": "code",
   "execution_count": 14,
   "id": "81a71aca-5687-4c65-afee-63bf655e5dc9",
   "metadata": {},
   "outputs": [],
   "source": [
    "with open('../diffusion_results_paper/plot/mean50_c01_t30_diff1.pkl', 'rb') as pickle_file:\n",
    "    results_diffsame = pickle.load(pickle_file)"
   ]
  },
  {
   "cell_type": "code",
   "execution_count": 16,
   "id": "bdc46a61-a976-4008-b888-9034ba478a8e",
   "metadata": {
    "jupyter": {
     "source_hidden": true
    }
   },
   "outputs": [
    {
     "data": {
      "image/png": "[encoded data removed]",
      "text/plain": [
       "<Figure size 288x144 with 2 Axes>"
      ]
     },
     "metadata": {
      "needs_background": "light"
     },
     "output_type": "display_data"
    }
   ],
   "source": [
    "fig, ax = plt.subplots(1,2, figsize=(4,2), sharey=True)\n",
    "\n",
    "Ex_xmap_y = []\n",
    "Ey_xmap_x = []\n",
    "for k in results_diffsame.keys():\n",
    "    result_E = results_diffsame[k]['optE']\n",
    "    \n",
    "    x_xmap_y, y_xmap_x = get_mean(result_E, dims)\n",
    "    xy_u, xy_l, yx_u, yx_l = get_interval(result_E, dims)\n",
    "\n",
    "    Ex_xmap_y.append(x_xmap_y)\n",
    "    Ey_xmap_x.append(y_xmap_x)\n",
    "    \n",
    "    ax[0].plot(dims, y_xmap_x,  c='#FB8500', lw=1, label = r'X $\\rightarrow$ Y', alpha=0.1)\n",
    "    #ax[0].fill_between(dims, yx_l, yx_u, color='#FB8500', alpha=0.1, lw=0)\n",
    "    ax[0].plot(dims, x_xmap_y,  c='#017D84', lw=1, label = r'Y $\\rightarrow$ X', alpha=0.1)\n",
    "    #ax[0].fill_between(dims, xy_l, xy_u, color='#017D84', alpha=0.1, lw=0)\n",
    "    ax[0].axvline(x=5, color='gray', linestyle='--', linewidth=1, alpha=0.5)\n",
    "\n",
    "p3,=ax[0].plot(dims, np.array(Ey_xmap_x).mean(axis=0),  c='#FB8500', lw=2, label = r'X $\\rightarrow$ Y')\n",
    "p4,=ax[0].plot(dims, np.array(Ex_xmap_y).mean(axis=0),  c='#017D84', lw=2, label = r'Y $\\rightarrow$ X')\n",
    "\n",
    "\n",
    "ax[0].set_ylim(-0.1,1)\n",
    "ax[0].set_title(r'$\\textbf a)$')\n",
    "ax[0].set_xlabel('E')\n",
    "ax[0].xaxis.set_major_locator(MaxNLocator(integer=True, nbins=4))\n",
    "ax[0].set_ylabel(r'$\\rho$')\n",
    "legend = ax[0].legend([p3, p4], [r'X $\\rightarrow$ Y', r'Y $\\rightarrow$ X'], scatterpoints=1,\n",
    "               numpoints=1, markerscale=1., handler_map={tuple: HandlerTuple(ndivide=None, pad=0.7)},\n",
    "               handlelength=0.5,      frameon=False)\n",
    "for legobj in legend.legendHandles:\n",
    "    legobj.set_linewidth(2)\n",
    "\n",
    "Lx_xmap_y = []\n",
    "Ly_xmap_x = []\n",
    "\n",
    "for k in results_diffsame.keys():\n",
    "    result_L = results_diffsame[k]['convergence']\n",
    "\n",
    "    x_xmap_y, y_xmap_x = get_mean(result_L, lib_sizes)\n",
    "    xy_u, xy_l, yx_u, yx_l = get_interval(result_L, lib_sizes)\n",
    "\n",
    "    Lx_xmap_y.append(x_xmap_y)\n",
    "    Ly_xmap_x.append(y_xmap_x)\n",
    "    \n",
    "    ax[1].plot(lib_sizes, y_xmap_x,  c='#D00000', lw=1, label = r'X $\\rightarrow$ Y', alpha=0.1)\n",
    "    #ax[1].fill_between(lib_sizes, yx_l, yx_u, color='#D00000', alpha=0.1, lw=0)\n",
    "    ax[1].plot(lib_sizes, x_xmap_y,  c='#006EBC', lw=1, label = r'Y $\\rightarrow$ X', alpha=0.1)\n",
    "    #ax[1].fill_between(lib_sizes, xy_l, xy_u, color='#006EBC', alpha=0.1, lw=0)\n",
    "\n",
    "p3,=ax[1].plot(lib_sizes, np.array(Ly_xmap_x).mean(axis=0),  c='#D00000', lw=2, label = r'X $\\rightarrow$ Y')\n",
    "p4,=ax[1].plot(lib_sizes, np.array(Lx_xmap_y).mean(axis=0),  c='#006EBC', lw=2, label = r'Y $\\rightarrow$ X')\n",
    "\n",
    "ax[1].set_title(r'$\\textbf b)$')\n",
    "ax[1].set_xlabel('L')\n",
    "ax[1].xaxis.set_major_locator(MaxNLocator(integer=True, nbins=4))\n",
    "legend = ax[1].legend([p3, p4], [r'X $\\rightarrow$ Y', r'Y $\\rightarrow$ X'], scatterpoints=1,\n",
    "               numpoints=1, markerscale=1., handler_map={tuple: HandlerTuple(ndivide=None, pad=0.7)},\n",
    "               handlelength=0.5,       frameon=False)\n",
    "for legobj in legend.legendHandles:\n",
    "    legobj.set_linewidth(2)\n",
    "\n",
    "plt.tight_layout()\n",
    "#plt.savefig('plots_paper/mean_c01_1.pdf', bbox_inches='tight')"
   ]
  },
  {
   "cell_type": "code",
   "execution_count": 17,
   "id": "ed3e485f-c8de-4396-a0ee-fdc7fd5f19c4",
   "metadata": {
    "jupyter": {
     "source_hidden": true
    }
   },
   "outputs": [
    {
     "data": {
      "image/png": "[encoded data removed]",
      "text/plain": [
       "<Figure size 288x144 with 2 Axes>"
      ]
     },
     "metadata": {
      "needs_background": "light"
     },
     "output_type": "display_data"
    }
   ],
   "source": [
    "fig, ax = plt.subplots(1,2, figsize=(4,2), sharey=True)\n",
    "\n",
    "Ediff = []\n",
    "for k in results_diffsame.keys():\n",
    "    result_E = results_diffsame[k]['optE']\n",
    "    \n",
    "    x_xmap_y, y_xmap_x = get_mean(result_E, dims)\n",
    "    xy_u, xy_l, yx_u, yx_l = get_interval(result_E, dims)\n",
    "\n",
    "    Ediff.append(y_xmap_x-x_xmap_y)\n",
    "    \n",
    "    ax[0].plot(dims, y_xmap_x-x_xmap_y,  c='grey', lw=1, label = r'X $\\rightarrow$ Y', alpha=0.2)\n",
    "    #ax[0].fill_between(dims, yx_l, yx_u, color='#FB8500', alpha=0.1, lw=0)\n",
    "    ax[0].axvline(x=5, color='gray', linestyle='--', linewidth=1, alpha=0.5)\n",
    "\n",
    "ax[0].axhline(y=0, color='gray', linewidth=1)\n",
    "p3,=ax[0].plot(dims, np.array(Ediff).mean(axis=0),  c='#5e007a', lw=2)\n",
    "\n",
    "ax[0].set_ylim(-0.7,0.7)\n",
    "ax[0].set_title(r'$\\textbf{a)}$ $\\alpha_1/\\alpha_2=1$')\n",
    "ax[0].set_xlabel('E')\n",
    "ax[0].xaxis.set_major_locator(MaxNLocator(integer=True, nbins=4))\n",
    "ax[0].set_ylabel(r'$ \\rho[\\hat{X}(s)|M_Y] - \\rho[\\hat{Y}(s)|M_X]$', fontsize=10)\n",
    "#legend = ax[0].legend([p3], [r'$\\rho[\\hat{Y}(s)|M_X] - \\rho[\\hat{X}(s)|M_Y]$'], scatterpoints=1,\n",
    "#               numpoints=1, markerscale=1., handler_map={tuple: HandlerTuple(ndivide=None, pad=0.7)},\n",
    "#                    frameon=False)\n",
    "for legobj in legend.legendHandles:\n",
    "    legobj.set_linewidth(2)\n",
    "\n",
    "Ldiff = []\n",
    "for k in results_diffsame.keys():\n",
    "    result_L = results_diffsame[k]['convergence']\n",
    "\n",
    "    x_xmap_y, y_xmap_x = get_mean(result_L, lib_sizes)\n",
    "    xy_u, xy_l, yx_u, yx_l = get_interval(result_L, lib_sizes)\n",
    "\n",
    "    Ldiff.append(y_xmap_x-x_xmap_y)\n",
    "    \n",
    "    ax[1].plot(lib_sizes, y_xmap_x-x_xmap_y,  c='grey', lw=1, label = r'X $\\rightarrow$ Y', alpha=0.2)\n",
    "    #ax[1].fill_between(lib_sizes, yx_l, yx_u, color='#D00000', alpha=0.1, lw=0)\n",
    "\n",
    "ax[1].axhline(y=0, color='gray', linewidth=1)\n",
    "p3,=ax[1].plot(lib_sizes, np.array(Ldiff).mean(axis=0),  c='#5e007a', lw=2, label = r'X $\\rightarrow$ Y')\n",
    "\n",
    "ax[1].set_title(r'$\\textbf b)$')\n",
    "ax[1].set_xlabel('L')\n",
    "ax[1].xaxis.set_major_locator(MaxNLocator(integer=True, nbins=4))\n",
    "\n",
    "for legobj in legend.legendHandles:\n",
    "    legobj.set_linewidth(2)\n",
    "\n",
    "plt.tight_layout()\n",
    "#plt.savefig('plots_paper/diff_c01_1.pdf', bbox_inches='tight')"
   ]
  },
  {
   "cell_type": "code",
   "execution_count": null,
   "id": "b0fe139e-adf1-4a1a-90fd-13a7a188537d",
   "metadata": {},
   "outputs": [],
   "source": [
    "sample=50\n",
    "c=0.1\n",
    "a1 = 2.800e-04\n",
    "a2 = 2.800e-03   \n",
    "\n",
    "results_diff01 = run_versions_(a1=a1, a2=a2, c=c, sample=sample)"
   ]
  },
  {
   "cell_type": "code",
   "execution_count": 18,
   "id": "e0962871-f207-45d9-a775-b2c666eeec1d",
   "metadata": {},
   "outputs": [],
   "source": [
    "with open('../diffusion_results_paper/plot/mean50_c01_t30_diff01.pkl', 'rb') as pickle_file:\n",
    "    results_diff01 = pickle.load(pickle_file)"
   ]
  },
  {
   "cell_type": "code",
   "execution_count": 19,
   "id": "a3b60763-aa58-407f-9108-3d06c8f47ff4",
   "metadata": {
    "jupyter": {
     "source_hidden": true
    }
   },
   "outputs": [
    {
     "data": {
      "image/png": "[encoded data removed]",
      "text/plain": [
       "<Figure size 288x144 with 2 Axes>"
      ]
     },
     "metadata": {
      "needs_background": "light"
     },
     "output_type": "display_data"
    }
   ],
   "source": [
    "fig, ax = plt.subplots(1,2, figsize=(4,2), sharey=True)\n",
    "\n",
    "Ex_xmap_y = []\n",
    "Ey_xmap_x = []\n",
    "for k in results_diff01.keys():\n",
    "    result_E = results_diff01[k]['optE']\n",
    "    \n",
    "    x_xmap_y, y_xmap_x = get_mean(result_E, dims)\n",
    "    xy_u, xy_l, yx_u, yx_l = get_interval(result_E, dims)\n",
    "\n",
    "    Ex_xmap_y.append(x_xmap_y)\n",
    "    Ey_xmap_x.append(y_xmap_x)\n",
    "    \n",
    "    ax[0].plot(dims, y_xmap_x,  c='#FB8500', lw=1, label = r'X $\\rightarrow$ Y', alpha=0.1)\n",
    "    #ax[0].fill_between(dims, yx_l, yx_u, color='#FB8500', alpha=0.1, lw=0)\n",
    "    ax[0].plot(dims, x_xmap_y,  c='#017D84', lw=1, label = r'Y $\\rightarrow$ X', alpha=0.1)\n",
    "    #ax[0].fill_between(dims, xy_l, xy_u, color='#017D84', alpha=0.1, lw=0)\n",
    "    ax[0].axvline(x=5, color='gray', linestyle='--', linewidth=1, alpha=0.5)\n",
    "\n",
    "p3,=ax[0].plot(dims, np.array(Ey_xmap_x).mean(axis=0),  c='#FB8500', lw=2, label = r'X $\\rightarrow$ Y')\n",
    "p4,=ax[0].plot(dims, np.array(Ex_xmap_y).mean(axis=0),  c='#017D84', lw=2, label = r'Y $\\rightarrow$ X')\n",
    "\n",
    "\n",
    "ax[0].set_ylim(-0.1,1)\n",
    "ax[0].set_title(r'$\\textbf a)$')\n",
    "ax[0].set_xlabel('E')\n",
    "ax[0].xaxis.set_major_locator(MaxNLocator(integer=True, nbins=4))\n",
    "ax[0].set_ylabel(r'$\\rho$')\n",
    "legend = ax[0].legend([p3, p4], [r'X $\\rightarrow$ Y', r'Y $\\rightarrow$ X'], scatterpoints=1,\n",
    "               numpoints=1, markerscale=1., handler_map={tuple: HandlerTuple(ndivide=None, pad=0.7)},\n",
    "               handlelength=0.5,     frameon=False)\n",
    "for legobj in legend.legendHandles:\n",
    "    legobj.set_linewidth(2)\n",
    "\n",
    "Lx_xmap_y = []\n",
    "Ly_xmap_x = []\n",
    "\n",
    "for k in results_diff01.keys():\n",
    "    result_L = results_diff01[k]['convergence']\n",
    "\n",
    "    x_xmap_y, y_xmap_x = get_mean(result_L, lib_sizes)\n",
    "    xy_u, xy_l, yx_u, yx_l = get_interval(result_L, lib_sizes)\n",
    "\n",
    "    Lx_xmap_y.append(x_xmap_y)\n",
    "    Ly_xmap_x.append(y_xmap_x)\n",
    "    \n",
    "    ax[1].plot(lib_sizes, y_xmap_x,  c='#D00000', lw=1, label = r'X $\\rightarrow$ Y', alpha=0.1)\n",
    "    #ax[1].fill_between(lib_sizes, yx_l, yx_u, color='#D00000', alpha=0.1, lw=0)\n",
    "    ax[1].plot(lib_sizes, x_xmap_y,  c='#006EBC', lw=1, label = r'Y $\\rightarrow$ X', alpha=0.1)\n",
    "    #ax[1].fill_between(lib_sizes, xy_l, xy_u, color='#006EBC', alpha=0.1, lw=0)\n",
    "\n",
    "p3,=ax[1].plot(lib_sizes, np.array(Ly_xmap_x).mean(axis=0),  c='#D00000', lw=2, label = r'X $\\rightarrow$ Y')\n",
    "p4,=ax[1].plot(lib_sizes, np.array(Lx_xmap_y).mean(axis=0),  c='#006EBC', lw=2, label = r'Y $\\rightarrow$ X')\n",
    "\n",
    "ax[1].set_title(r'$\\textbf b)$')\n",
    "ax[1].set_xlabel('L')\n",
    "ax[1].xaxis.set_major_locator(MaxNLocator(integer=True, nbins=4))\n",
    "legend = ax[1].legend([p3, p4], [r'X $\\rightarrow$ Y', r'Y $\\rightarrow$ X'], scatterpoints=1,\n",
    "               numpoints=1, markerscale=1., handler_map={tuple: HandlerTuple(ndivide=None, pad=0.7)},\n",
    "               handlelength=0.5,      frameon=False)\n",
    "for legobj in legend.legendHandles:\n",
    "    legobj.set_linewidth(2)\n",
    "\n",
    "plt.tight_layout()\n",
    "#plt.savefig('plots_paper/mean_c01_1.pdf', bbox_inches='tight')"
   ]
  },
  {
   "cell_type": "code",
   "execution_count": 20,
   "id": "99d76347-f679-4fcc-a768-d832ff1e0fb9",
   "metadata": {
    "jupyter": {
     "source_hidden": true
    }
   },
   "outputs": [
    {
     "data": {
      "image/png": "[encoded data removed]",
      "text/plain": [
       "<Figure size 288x144 with 2 Axes>"
      ]
     },
     "metadata": {
      "needs_background": "light"
     },
     "output_type": "display_data"
    }
   ],
   "source": [
    "fig, ax = plt.subplots(1,2, figsize=(4,2), sharey=True)\n",
    "\n",
    "Ediff = []\n",
    "for k in results_diff01.keys():\n",
    "    result_E = results_diff01[k]['optE']\n",
    "    \n",
    "    x_xmap_y, y_xmap_x = get_mean(result_E, dims)\n",
    "    xy_u, xy_l, yx_u, yx_l = get_interval(result_E, dims)\n",
    "\n",
    "    Ediff.append(y_xmap_x-x_xmap_y)\n",
    "    \n",
    "    ax[0].plot(dims, y_xmap_x-x_xmap_y,  c='grey', lw=1, label = r'X $\\rightarrow$ Y', alpha=0.2)\n",
    "    #ax[0].fill_between(dims, yx_l, yx_u, color='#FB8500', alpha=0.1, lw=0)\n",
    "    ax[0].axvline(x=5, color='gray', linestyle='--', linewidth=1, alpha=0.5)\n",
    "\n",
    "ax[0].axhline(y=0, color='gray', linewidth=1)\n",
    "p3,=ax[0].plot(dims, np.array(Ediff).mean(axis=0),  c='#5e007a', lw=2)\n",
    "\n",
    "ax[0].set_ylim(-0.7,0.7)\n",
    "ax[0].set_title(r'$\\textbf{a)}$ $\\alpha_1/\\alpha_2=0.1$')\n",
    "ax[0].set_xlabel('E')\n",
    "ax[0].xaxis.set_major_locator(MaxNLocator(integer=True, nbins=4))\n",
    "ax[0].set_ylabel(r'$ \\rho[\\hat{X}(s)|M_Y] - \\rho[\\hat{Y}(s)|M_X]$', fontsize=10)\n",
    "#legend = ax[0].legend([p3], [r'$\\rho[\\hat{Y}(s)|M_X] - \\rho[\\hat{X}(s)|M_Y]$'], scatterpoints=1,\n",
    "#               numpoints=1, markerscale=1., handler_map={tuple: HandlerTuple(ndivide=None, pad=0.7)},\n",
    "#                    frameon=False)\n",
    "for legobj in legend.legendHandles:\n",
    "    legobj.set_linewidth(2)\n",
    "\n",
    "Ldiff = []\n",
    "for k in results_diff01.keys():\n",
    "    result_L = results_diff01[k]['convergence']\n",
    "\n",
    "    x_xmap_y, y_xmap_x = get_mean(result_L, lib_sizes)\n",
    "    xy_u, xy_l, yx_u, yx_l = get_interval(result_L, lib_sizes)\n",
    "\n",
    "    Ldiff.append(y_xmap_x-x_xmap_y)\n",
    "    \n",
    "    ax[1].plot(lib_sizes, y_xmap_x-x_xmap_y,  c='grey', lw=1, label = r'X $\\rightarrow$ Y', alpha=0.2)\n",
    "    #ax[1].fill_between(lib_sizes, yx_l, yx_u, color='#D00000', alpha=0.1, lw=0)\n",
    "\n",
    "ax[1].axhline(y=0, color='gray', linewidth=1)\n",
    "p3,=ax[1].plot(lib_sizes, np.array(Ldiff).mean(axis=0),  c='#5e007a', lw=2, label = r'X $\\rightarrow$ Y')\n",
    "\n",
    "ax[1].set_title(r'$\\textbf b)$')\n",
    "ax[1].set_xlabel('L')\n",
    "ax[1].xaxis.set_major_locator(MaxNLocator(integer=True, nbins=4))\n",
    "\n",
    "\n",
    "for legobj in legend.legendHandles:\n",
    "    legobj.set_linewidth(2)\n",
    "\n",
    "plt.tight_layout()\n",
    "#plt.savefig('plots_paper/diff_c01_1.pdf', bbox_inches='tight')"
   ]
  },
  {
   "cell_type": "code",
   "execution_count": null,
   "id": "1b52a1ed-1f12-4360-af34-a9316fda78d0",
   "metadata": {},
   "outputs": [],
   "source": [
    "sample=50\n",
    "c=0.1\n",
    "a1 = 2.800e-03\n",
    "a2 = 2.800e-04   \n",
    "\n",
    "results_diff10 = run_versions_(a1=a1, a2=a2, c=c, sample=sample)"
   ]
  },
  {
   "cell_type": "code",
   "execution_count": 21,
   "id": "05036450-0dc2-4066-9f39-4fe181e0ed28",
   "metadata": {},
   "outputs": [],
   "source": [
    "with open('../diffusion_results_paper/plot/mean50_c01_t30_diff10.pkl', 'rb') as pickle_file:\n",
    "    results_diff10 = pickle.load(pickle_file)"
   ]
  },
  {
   "cell_type": "code",
   "execution_count": 22,
   "id": "f9e7f2d9-cce5-4b0f-9d12-f9a6ee1801bc",
   "metadata": {
    "jupyter": {
     "source_hidden": true
    }
   },
   "outputs": [
    {
     "data": {
      "image/png": "[encoded data removed]",
      "text/plain": [
       "<Figure size 288x144 with 2 Axes>"
      ]
     },
     "metadata": {
      "needs_background": "light"
     },
     "output_type": "display_data"
    }
   ],
   "source": [
    "fig, ax = plt.subplots(1,2, figsize=(4,2), sharey=True)\n",
    "\n",
    "Ex_xmap_y = []\n",
    "Ey_xmap_x = []\n",
    "for k in results_diff10.keys():\n",
    "    result_E = results_diff10[k]['optE']\n",
    "    \n",
    "    x_xmap_y, y_xmap_x = get_mean(result_E, dims)\n",
    "    xy_u, xy_l, yx_u, yx_l = get_interval(result_E, dims)\n",
    "\n",
    "    Ex_xmap_y.append(x_xmap_y)\n",
    "    Ey_xmap_x.append(y_xmap_x)\n",
    "    \n",
    "    ax[0].plot(dims, y_xmap_x,  c='#FB8500', lw=1, label = r'X $\\rightarrow$ Y', alpha=0.1)\n",
    "    #ax[0].fill_between(dims, yx_l, yx_u, color='#FB8500', alpha=0.1, lw=0)\n",
    "    ax[0].plot(dims, x_xmap_y,  c='#017D84', lw=1, label = r'Y $\\rightarrow$ X', alpha=0.1)\n",
    "    #ax[0].fill_between(dims, xy_l, xy_u, color='#017D84', alpha=0.1, lw=0)\n",
    "    ax[0].axvline(x=5, color='gray', linestyle='--', linewidth=1, alpha=0.5)\n",
    "\n",
    "p3,=ax[0].plot(dims, np.array(Ey_xmap_x).mean(axis=0),  c='#FB8500', lw=2, label = r'X $\\rightarrow$ Y')\n",
    "p4,=ax[0].plot(dims, np.array(Ex_xmap_y).mean(axis=0),  c='#017D84', lw=2, label = r'Y $\\rightarrow$ X')\n",
    "\n",
    "\n",
    "ax[0].set_ylim(-0.1,1)\n",
    "ax[0].set_title(r'$\\textbf a)$')\n",
    "ax[0].set_xlabel('E')\n",
    "ax[0].xaxis.set_major_locator(MaxNLocator(integer=True, nbins=4))\n",
    "ax[0].set_ylabel(r'$\\rho$')\n",
    "legend = ax[0].legend([p3, p4], [r'X $\\rightarrow$ Y', r'Y $\\rightarrow$ X'], scatterpoints=1,\n",
    "               numpoints=1, markerscale=1., handler_map={tuple: HandlerTuple(ndivide=None, pad=0.7)},\n",
    "               handlelength=0.5,     frameon=False)\n",
    "for legobj in legend.legendHandles:\n",
    "    legobj.set_linewidth(2)\n",
    "\n",
    "Lx_xmap_y = []\n",
    "Ly_xmap_x = []\n",
    "\n",
    "for k in results_diff10.keys():\n",
    "    result_L = results_diff10[k]['convergence']\n",
    "\n",
    "    x_xmap_y, y_xmap_x = get_mean(result_L, lib_sizes)\n",
    "    xy_u, xy_l, yx_u, yx_l = get_interval(result_L, lib_sizes)\n",
    "\n",
    "    Lx_xmap_y.append(x_xmap_y)\n",
    "    Ly_xmap_x.append(y_xmap_x)\n",
    "    \n",
    "    ax[1].plot(lib_sizes, y_xmap_x,  c='#D00000', lw=1, label = r'X $\\rightarrow$ Y', alpha=0.1)\n",
    "    #ax[1].fill_between(lib_sizes, yx_l, yx_u, color='#D00000', alpha=0.1, lw=0)\n",
    "    ax[1].plot(lib_sizes, x_xmap_y,  c='#006EBC', lw=1, label = r'Y $\\rightarrow$ X', alpha=0.1)\n",
    "    #ax[1].fill_between(lib_sizes, xy_l, xy_u, color='#006EBC', alpha=0.1, lw=0)\n",
    "\n",
    "p3,=ax[1].plot(lib_sizes, np.array(Ly_xmap_x).mean(axis=0),  c='#D00000', lw=2, label = r'X $\\rightarrow$ Y')\n",
    "p4,=ax[1].plot(lib_sizes, np.array(Lx_xmap_y).mean(axis=0),  c='#006EBC', lw=2, label = r'Y $\\rightarrow$ X')\n",
    "\n",
    "ax[1].set_title(r'$\\textbf b)$')\n",
    "ax[1].set_xlabel('L')\n",
    "ax[1].xaxis.set_major_locator(MaxNLocator(integer=True, nbins=4))\n",
    "legend = ax[1].legend([p3, p4], [r'X $\\rightarrow$ Y', r'Y $\\rightarrow$ X'], scatterpoints=1,\n",
    "               numpoints=1, markerscale=1., handler_map={tuple: HandlerTuple(ndivide=None, pad=0.7)},\n",
    "               handlelength=0.5,      frameon=False)\n",
    "for legobj in legend.legendHandles:\n",
    "    legobj.set_linewidth(2)\n",
    "\n",
    "plt.tight_layout()\n",
    "#plt.savefig('plots_paper/mean_c01_100.pdf', bbox_inches='tight')"
   ]
  },
  {
   "cell_type": "code",
   "execution_count": 23,
   "id": "5610d10e-f307-4d36-aba8-ba6a630ca832",
   "metadata": {
    "jupyter": {
     "source_hidden": true
    }
   },
   "outputs": [
    {
     "data": {
      "image/png": "[encoded data removed]",
      "text/plain": [
       "<Figure size 288x144 with 2 Axes>"
      ]
     },
     "metadata": {
      "needs_background": "light"
     },
     "output_type": "display_data"
    }
   ],
   "source": [
    "fig, ax = plt.subplots(1,2, figsize=(4,2), sharey=True)\n",
    "\n",
    "Ediff = []\n",
    "for k in results_diff10.keys():\n",
    "    result_E = results_diff10[k]['optE']\n",
    "    \n",
    "    x_xmap_y, y_xmap_x = get_mean(result_E, dims)\n",
    "    xy_u, xy_l, yx_u, yx_l = get_interval(result_E, dims)\n",
    "\n",
    "    Ediff.append(y_xmap_x-x_xmap_y)\n",
    "    \n",
    "    ax[0].plot(dims, y_xmap_x-x_xmap_y,  c='grey', lw=1, label = r'X $\\rightarrow$ Y', alpha=0.2)\n",
    "    #ax[0].fill_between(dims, yx_l, yx_u, color='#FB8500', alpha=0.1, lw=0)\n",
    "    ax[0].axvline(x=5, color='gray', linestyle='--', linewidth=1, alpha=0.5)\n",
    "\n",
    "ax[0].axhline(y=0, color='gray', linewidth=1)\n",
    "p3,=ax[0].plot(dims, np.array(Ediff).mean(axis=0),  c='#5e007a', lw=2)\n",
    "\n",
    "ax[0].set_ylim(-0.7,0.7)\n",
    "ax[0].set_title(r'$\\textbf{a)}$ $\\alpha_1/\\alpha_2=10$')\n",
    "ax[0].set_xlabel('E')\n",
    "ax[0].xaxis.set_major_locator(MaxNLocator(integer=True, nbins=4))\n",
    "ax[0].set_ylabel(r'$ \\rho[\\hat{X}(s)|M_Y] - \\rho[\\hat{Y}(s)|M_X]$', fontsize=10)\n",
    "#legend = ax[0].legend([p3], [r'$\\rho[\\hat{Y}(s)|M_X] - \\rho[\\hat{X}(s)|M_Y]$'], scatterpoints=1,\n",
    "#               numpoints=1, markerscale=1., handler_map={tuple: HandlerTuple(ndivide=None, pad=0.7)},\n",
    "#                    frameon=False)\n",
    "for legobj in legend.legendHandles:\n",
    "    legobj.set_linewidth(2)\n",
    "\n",
    "Ldiff = []\n",
    "for k in results_diff10.keys():\n",
    "    result_L = results_diff10[k]['convergence']\n",
    "\n",
    "    x_xmap_y, y_xmap_x = get_mean(result_L, lib_sizes)\n",
    "    xy_u, xy_l, yx_u, yx_l = get_interval(result_L, lib_sizes)\n",
    "\n",
    "    Ldiff.append(y_xmap_x-x_xmap_y)\n",
    "    \n",
    "    ax[1].plot(lib_sizes, y_xmap_x-x_xmap_y,  c='grey', lw=1, label = r'X $\\rightarrow$ Y', alpha=0.2)\n",
    "    #ax[1].fill_between(lib_sizes, yx_l, yx_u, color='#D00000', alpha=0.1, lw=0)\n",
    "\n",
    "ax[1].axhline(y=0, color='gray', linewidth=1)\n",
    "p3,=ax[1].plot(lib_sizes, np.array(Ldiff).mean(axis=0),  c='#5e007a', lw=2, label = r'X $\\rightarrow$ Y')\n",
    "\n",
    "ax[1].set_title(r'$\\textbf b)$')\n",
    "ax[1].set_xlabel('L')\n",
    "ax[1].xaxis.set_major_locator(MaxNLocator(integer=True, nbins=4))\n",
    "\n",
    "\n",
    "for legobj in legend.legendHandles:\n",
    "    legobj.set_linewidth(2)\n",
    "\n",
    "plt.tight_layout()\n",
    "#plt.savefig('plots_paper/diff_c01_10.pdf', bbox_inches='tight')"
   ]
  },
  {
   "cell_type": "markdown",
   "id": "1e5de74b-b0c2-48d1-a6b4-8ef979924a34",
   "metadata": {},
   "source": [
    "## Heatmap"
   ]
  },
  {
   "cell_type": "code",
   "execution_count": 8,
   "id": "acdcd62e-916f-4757-b48c-a42112bd90dd",
   "metadata": {},
   "outputs": [],
   "source": [
    "import uuid"
   ]
  },
  {
   "cell_type": "code",
   "execution_count": 24,
   "id": "8f1a2ef2-e2bd-4680-88ff-efc6911e9a12",
   "metadata": {},
   "outputs": [],
   "source": [
    "with open('../diffusion_results_paper/results.pkl', 'rb') as pickle_file:\n",
    "    results = pickle.load(pickle_file)"
   ]
  },
  {
   "cell_type": "code",
   "execution_count": 10,
   "id": "20d08f93-b4fa-49f0-af90-09f8924860a6",
   "metadata": {
    "scrolled": true
   },
   "outputs": [
    {
     "name": "stdout",
     "output_type": "stream",
     "text": [
      "0 100.0 -0.14994380527925594\n",
      "0 11.513274336283205 -0.18214304096062495\n",
      "0 5.669811320754718 -0.13627455429076615\n",
      "0 3.5466237942122203 -0.1015742794751782\n",
      "0 2.448780487804878 -0.06858229946204202\n",
      "0 1.7779960707269158 -0.04046370354881726\n",
      "0 1.3256578947368423 -0.01670196128115752\n",
      "0 1.0 0.014790825173649512\n",
      "0 0.7543424317617865 0.04097934365133311\n",
      "0 0.5624309392265192 0.062026704583195216\n",
      "0 0.40836653386454186 0.08301674068874877\n",
      "0 0.2819582955575701 0.09794102578982318\n",
      "0 0.17637271214642258 0.13771978356052925\n",
      "0 0.08685626441199064 0.18286914671481846\n",
      "0 0.01 0.17518819931385418\n",
      "0.01 100.0 -0.1513583932593933\n",
      "0.01 11.513274336283205 -0.18870803784109633\n",
      "0.01 5.669811320754718 -0.13542091265186154\n",
      "0.01 3.5466237942122203 -0.10716317184006138\n",
      "0.01 2.448780487804878 -0.06966355811913516\n",
      "0.01 1.7779960707269158 -0.04441025256104388\n",
      "0.01 1.3256578947368423 -0.01221568644748311\n",
      "0.01 1.0 0.01202134417948867\n",
      "0.01 0.7543424317617865 0.034156967043156745\n",
      "0.01 0.5624309392265192 0.06119878127138463\n",
      "0.01 0.40836653386454186 0.08238565587897646\n",
      "0.01 0.2819582955575701 0.10250801658765062\n",
      "0.01 0.17637271214642258 0.14411290995513804\n",
      "0.01 0.08685626441199064 0.18871263418714182\n",
      "0.01 0.01 0.23045077609921474\n",
      "0.02 100.0 -0.15140111411749294\n",
      "0.02 11.513274336283205 -0.18564330124261416\n",
      "0.02 5.669811320754718 -0.14163021877515025\n",
      "0.02 3.5466237942122203 -0.11758444147288807\n",
      "0.02 2.448780487804878 -0.06842371337461847\n",
      "0.02 1.7779960707269158 -0.04378486081991366\n",
      "0.02 1.3256578947368423 -0.01336258372577379\n",
      "0.02 1.0 0.011094814003929341\n",
      "0.02 0.7543424317617865 0.037332965274654066\n",
      "0.02 0.5624309392265192 0.057901956903376496\n",
      "0.02 0.40836653386454186 0.0856246468459237\n",
      "0.02 0.2819582955575701 0.10871399738233997\n",
      "0.02 0.17637271214642258 0.1414351854858536\n",
      "0.02 0.08685626441199064 0.19286596528636665\n",
      "0.02 0.01 0.3365166956698443\n",
      "0.03 100.0 -0.15041399405115485\n",
      "0.03 11.513274336283205 -0.18116693875447346\n",
      "0.03 5.669811320754718 -0.14103962494835923\n",
      "0.03 3.5466237942122203 -0.10683058081669916\n",
      "0.03 2.448780487804878 -0.06624159922645742\n",
      "0.03 1.7779960707269158 -0.037488308379865984\n",
      "0.03 1.3256578947368423 -0.01297845820801107\n",
      "0.03 1.0 0.015202492667187978\n",
      "0.03 0.7543424317617865 0.04173107190544096\n",
      "0.03 0.5624309392265192 0.055581209643398174\n",
      "0.03 0.40836653386454186 0.08332160291444157\n",
      "0.03 0.2819582955575701 0.11107142206945676\n",
      "0.03 0.17637271214642258 0.14841732095151897\n",
      "0.03 0.08685626441199064 0.20764659909920813\n",
      "0.03 0.01 0.41798695760053156\n",
      "0.04 100.0 -0.14774409727318324\n",
      "0.04 11.513274336283205 -0.17928678264910886\n",
      "0.04 5.669811320754718 -0.13902835244665854\n",
      "0.04 3.5466237942122203 -0.10690960488647101\n",
      "0.04 2.448780487804878 -0.059961295512270425\n",
      "0.04 1.7779960707269158 -0.033931235623678085\n",
      "0.04 1.3256578947368423 -0.009957901747098907\n",
      "0.04 1.0 0.02129465379075322\n",
      "0.04 0.7543424317617865 0.03466342967887526\n",
      "0.04 0.5624309392265192 0.05523166564927503\n",
      "0.04 0.40836653386454186 0.08796677923857019\n",
      "0.04 0.2819582955575701 0.10995160708820537\n",
      "0.04 0.17637271214642258 0.16004427894645615\n",
      "0.04 0.08685626441199064 0.22455388433289197\n",
      "0.04 0.01 0.4866847545721387\n",
      "0.05 100.0 -0.1474332395658497\n",
      "0.05 11.513274336283205 -0.1789006751859654\n",
      "0.05 5.669811320754718 -0.1418877936714157\n",
      "0.05 3.5466237942122203 -0.10463905912267027\n",
      "0.05 2.448780487804878 -0.0555651705720141\n",
      "0.05 1.7779960707269158 -0.040193622487188045\n",
      "0.05 1.3256578947368423 -0.007827884346216465\n",
      "0.05 1.0 0.022465852767977825\n",
      "0.05 0.7543424317617865 0.03484395880351234\n",
      "0.05 0.5624309392265192 0.059073079017596904\n",
      "0.05 0.40836653386454186 0.08934788474603625\n",
      "0.05 0.2819582955575701 0.12103735133550149\n",
      "0.05 0.17637271214642258 0.1601987957287906\n",
      "0.05 0.08685626441199064 0.23187348541287225\n",
      "0.05 0.01 0.531995644250626\n",
      "0.06 100.0 -0.1480188239318056\n",
      "0.06 11.513274336283205 -0.1813839503404796\n",
      "0.06 5.669811320754718 -0.13464628845150656\n",
      "0.06 3.5466237942122203 -0.1041872263036377\n",
      "0.06 2.448780487804878 -0.06378822404245445\n",
      "0.06 1.7779960707269158 -0.029630173541313812\n",
      "0.06 1.3256578947368423 -0.013088059001988048\n",
      "0.06 1.0 0.015965688631858734\n",
      "0.06 0.7543424317617865 0.03747944460892325\n",
      "0.06 0.5624309392265192 0.06644787494434871\n",
      "0.06 0.40836653386454186 0.09876299449429625\n",
      "0.06 0.2819582955575701 0.12073228137241103\n",
      "0.06 0.17637271214642258 0.16938351318731956\n",
      "0.06 0.08685626441199064 0.24930173678290216\n",
      "0.06 0.01 0.5634791772787727\n",
      "0.07 100.0 -0.145988611241582\n",
      "0.07 11.513274336283205 -0.18455987208060137\n",
      "0.07 5.669811320754718 -0.13757530987154273\n",
      "0.07 3.5466237942122203 -0.10421432996604774\n",
      "0.07 2.448780487804878 -0.06450791818126428\n",
      "0.07 1.7779960707269158 -0.043357424668560976\n",
      "0.07 1.3256578947368423 -0.012376422194049308\n",
      "0.07 1.0 0.014739940881327254\n",
      "0.07 0.7543424317617865 0.04717796815168194\n",
      "0.07 0.5624309392265192 0.06740808070917521\n",
      "0.07 0.40836653386454186 0.09287124589814316\n",
      "0.07 0.2819582955575701 0.12489263771599803\n",
      "0.07 0.17637271214642258 0.16882361785676864\n",
      "0.07 0.08685626441199064 0.2690620150903539\n",
      "0.07 0.01 0.5820447357107398\n",
      "0.08 100.0 -0.1452553969488594\n",
      "0.08 11.513274336283205 -0.18872540530735477\n",
      "0.08 5.669811320754718 -0.1348732948747927\n",
      "0.08 3.5466237942122203 -0.10143275370285418\n",
      "0.08 2.448780487804878 -0.07039239092631627\n",
      "0.08 1.7779960707269158 -0.03030031195249058\n",
      "0.08 1.3256578947368423 -0.015905934898066968\n",
      "0.08 1.0 0.017530927719880185\n",
      "0.08 0.7543424317617865 0.038631131402538266\n",
      "0.08 0.5624309392265192 0.06281016868887168\n",
      "0.08 0.40836653386454186 0.09189963506100202\n",
      "0.08 0.2819582955575701 0.11798420465890969\n",
      "0.08 0.17637271214642258 0.17256290738565772\n",
      "0.08 0.08685626441199064 0.2782484469981769\n",
      "0.08 0.01 0.5892206597903163\n",
      "0.09 100.0 -0.14449158554845332\n",
      "0.09 11.513274336283205 -0.1799849384455316\n",
      "0.09 5.669811320754718 -0.1389831495701123\n",
      "0.09 3.5466237942122203 -0.09710323415925223\n",
      "0.09 2.448780487804878 -0.06116465956154085\n",
      "0.09 1.7779960707269158 -0.03540833636638939\n",
      "0.09 1.3256578947368423 -0.012189428139937808\n",
      "0.09 1.0 0.015135371333121822\n",
      "0.09 0.7543424317617865 0.033833505004635785\n",
      "0.09 0.5624309392265192 0.057021183563780324\n",
      "0.09 0.40836653386454186 0.08403969009202898\n",
      "0.09 0.2819582955575701 0.11963404270881375\n",
      "0.09 0.17637271214642258 0.1798555361492195\n",
      "0.09 0.08685626441199064 0.2925434736229656\n",
      "0.09 0.01 0.5884099699944514\n",
      "0.1 100.0 -0.14426824230880764\n",
      "0.1 11.513274336283205 -0.18676800003629537\n",
      "0.1 5.669811320754718 -0.13262107222388544\n",
      "0.1 3.5466237942122203 -0.09144838870016953\n",
      "0.1 2.448780487804878 -0.056487522367284146\n",
      "0.1 1.7779960707269158 -0.03642664782772697\n",
      "0.1 1.3256578947368423 -0.006867663721988954\n",
      "0.1 1.0 0.013994711671762446\n",
      "0.1 0.7543424317617865 0.03707446079023247\n",
      "0.1 0.5624309392265192 0.055008603067228865\n",
      "0.1 0.40836653386454186 0.09187801219818746\n",
      "0.1 0.2819582955575701 0.12216317155308266\n",
      "0.1 0.17637271214642258 0.18010704748722645\n",
      "0.1 0.08685626441199064 0.2917479650875874\n",
      "0.1 0.01 0.5852679502221325\n",
      "0.11 100.0 -0.14735143363506512\n",
      "0.11 11.513274336283205 -0.18119566033948561\n",
      "0.11 5.669811320754718 -0.12856938885050812\n",
      "0.11 3.5466237942122203 -0.09036322997879526\n",
      "0.11 2.448780487804878 -0.056439246656648255\n",
      "0.11 1.7779960707269158 -0.03180722158196164\n",
      "0.11 1.3256578947368423 -0.00918411209216801\n",
      "0.11 1.0 0.015818612487885707\n",
      "0.11 0.7543424317617865 0.03188268954319582\n",
      "0.11 0.5624309392265192 0.05472809551030302\n",
      "0.11 0.40836653386454186 0.08025947275691601\n",
      "0.11 0.2819582955575701 0.11377261264014175\n",
      "0.11 0.17637271214642258 0.1755376791241199\n",
      "0.11 0.08685626441199064 0.293493077205095\n",
      "0.11 0.01 0.5772079494674415\n",
      "0.12 100.0 -0.1419724013300838\n",
      "0.12 11.513274336283205 -0.17527486600604192\n",
      "0.12 5.669811320754718 -0.12159879361744241\n",
      "0.12 3.5466237942122203 -0.09457861684319432\n",
      "0.12 2.448780487804878 -0.06382682823882485\n",
      "0.12 1.7779960707269158 -0.03273748622411622\n",
      "0.12 1.3256578947368423 -0.012818333767763397\n",
      "0.12 1.0 0.018336621413161055\n",
      "0.12 0.7543424317617865 0.03177655315166827\n",
      "0.12 0.5624309392265192 0.05431147968838096\n",
      "0.12 0.40836653386454186 0.08080849011173528\n",
      "0.12 0.2819582955575701 0.110092515645486\n",
      "0.12 0.17637271214642258 0.17437762331586398\n",
      "0.12 0.08685626441199064 0.2963955251543373\n",
      "0.12 0.01 0.5706195608892186\n",
      "0.13 100.0 -0.1388633592535201\n",
      "0.13 11.513274336283205 -0.16982838956025098\n",
      "0.13 5.669811320754718 -0.11890227030431945\n",
      "0.13 3.5466237942122203 -0.08910841270691039\n",
      "0.13 2.448780487804878 -0.05733264327805683\n",
      "0.13 1.7779960707269158 -0.033845548183830225\n",
      "0.13 1.3256578947368423 -0.010362084679210981\n",
      "0.13 1.0 0.013748122299682952\n",
      "0.13 0.7543424317617865 0.02817387247708301\n",
      "0.13 0.5624309392265192 0.05159822468918815\n",
      "0.13 0.40836653386454186 0.08216142558513007\n",
      "0.13 0.2819582955575701 0.11631419887507968\n",
      "0.13 0.17637271214642258 0.1773101132212876\n",
      "0.13 0.08685626441199064 0.29506105013690587\n",
      "0.13 0.01 0.5628309712251511\n",
      "0.14 100.0 -0.1370038604031208\n",
      "0.14 11.513274336283205 -0.17155974247918399\n",
      "0.14 5.669811320754718 -0.11492346733489986\n",
      "0.14 3.5466237942122203 -0.09114480430730268\n",
      "0.14 2.448780487804878 -0.05826707666800539\n",
      "0.14 1.7779960707269158 -0.04150197407446049\n",
      "0.14 1.3256578947368423 -0.010653824688909479\n",
      "0.14 1.0 0.013097407804829084\n",
      "0.14 0.7543424317617865 0.024048567576684013\n",
      "0.14 0.5624309392265192 0.049292361762963866\n",
      "0.14 0.40836653386454186 0.0805620440282197\n",
      "0.14 0.2819582955575701 0.12091401940474535\n",
      "0.14 0.17637271214642258 0.1825066273920112\n",
      "0.14 0.08685626441199064 0.3017097233520945\n",
      "0.14 0.01 0.5538605289199248\n"
     ]
    }
   ],
   "source": [
    "diff_map = {}\n",
    "\n",
    "for i in results['results_map'].keys():\n",
    "    c = results['meta'][i][2]\n",
    "    a1 = results['meta'][i][3]\n",
    "    a2 = results['meta'][i][4]\n",
    "    \n",
    "    sample = results['results_map'][i]\n",
    "    diff = []\n",
    "    for k in sample.keys():\n",
    "        result_L = sample[k]['gccm']\n",
    "        x_xmap_y, y_xmap_x = get_mean(result_L, [100])\n",
    "        diff.append(y_xmap_x-x_xmap_y)\n",
    "    diff_map[i] = np.array(diff).mean()\n",
    "\n",
    "    print(c, a1/a2, np.array(diff).mean())"
   ]
  },
  {
   "cell_type": "code",
   "execution_count": 83,
   "id": "b892049f-48c0-43b3-9389-7b1a2b00f4be",
   "metadata": {},
   "outputs": [
    {
     "data": {
      "image/png": "[encoded data removed]",
      "text/plain": [
       "<Figure size 144x144 with 2 Axes>"
      ]
     },
     "metadata": {
      "needs_background": "light"
     },
     "output_type": "display_data"
    }
   ],
   "source": [
    "fig, ax = plt.subplots(1,1, figsize=(2,2))\n",
    "p = plt.imshow(np.array(list(diff_map.values())).reshape(len(c_list), a_list.shape[0]), \n",
    "               cmap='seismic', vmin=-1, vmax=1, origin='lower')\n",
    "ax.invert_xaxis()\n",
    "\n",
    "ax.set_xticks(np.arange(a_ratio.shape[0]))     \n",
    "ax.set_yticks(np.arange(len(c_list)))  \n",
    "# Only show every second label for the x-axis\n",
    "ax.set_xticklabels([label if idx % 2 == 0 else '' for idx, label in enumerate(a_ratio.round(2))])\n",
    "plt.setp(ax.get_xticklabels(), rotation=90)\n",
    "\n",
    "# Only show every second label for the y-axis\n",
    "ax.set_yticklabels([label if idx % 2 == 0 else '' for idx, label in enumerate(c_list)])\n",
    "\n",
    "ax.set_xlabel(r'$\\alpha_1/\\alpha_2$')\n",
    "ax.set_ylabel(r'c')\n",
    "\n",
    "cbar = fig.colorbar(p, fraction=0.046, pad=0.04, aspect=10)\n",
    "cbar.set_label(r'$ \\rho[\\hat{X}(s)|M_Y] - \\rho[\\hat{Y}(s)|M_X]$', fontsize=10, labelpad=10)\n",
    "\n",
    "plt.savefig('plots_paper/heatmap.pdf', bbox_inches='tight')"
   ]
  }
 ],
 "metadata": {
  "kernelspec": {
   "display_name": "Python 3 (ipykernel)",
   "language": "python",
   "name": "python3"
  },
  "language_info": {
   "codemirror_mode": {
    "name": "ipython",
    "version": 3
   },
   "file_extension": ".py",
   "mimetype": "text/x-python",
   "name": "python",
   "nbconvert_exporter": "python",
   "pygments_lexer": "ipython3",
   "version": "3.10.12"
  }
 },
 "nbformat": 4,
 "nbformat_minor": 5
}
