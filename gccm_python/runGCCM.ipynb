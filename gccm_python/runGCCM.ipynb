{
 "cells": [
  {
   "cell_type": "code",
   "execution_count": 4,
   "id": "e633d350-5b77-4326-a585-64251088416c",
   "metadata": {},
   "outputs": [
    {
     "name": "stdout",
     "output_type": "stream",
     "text": [
      "The autoreload extension is already loaded. To reload it, use:\n",
      "  %reload_ext autoreload\n"
     ]
    }
   ],
   "source": [
    "import numpy as np\n",
    "import matplotlib.pyplot as plt\n",
    "from optimalEmbedding import run_optEmbedding\n",
    "from GCCM_gao_corrected import run_GCCM_corrected\n",
    "from optimalEmbedding_sampling import run_optEmbedding_sampling\n",
    "from GCCM_sampling import run_GCCM_sampling\n",
    "import rasterio\n",
    "%load_ext autoreload\n",
    "%autoreload 2"
   ]
  },
  {
   "cell_type": "code",
   "execution_count": 2,
   "id": "1f0c8609-f0c0-4233-8350-5571b87ff140",
   "metadata": {},
   "outputs": [],
   "source": [
    "import warnings\n",
    "warnings.simplefilter(action='ignore', category=FutureWarning)\n",
    "warnings.simplefilter(action='ignore', category=RuntimeWarning)"
   ]
  },
  {
   "cell_type": "code",
   "execution_count": 5,
   "id": "e1912e02-ec74-41cf-9ae0-1fd35a11cb4c",
   "metadata": {},
   "outputs": [],
   "source": [
    "# load data\n",
    "x = rasterio.open('data/dTRI_aligned.tif') # cause\n",
    "xMatrix_al = x.read(1)\n",
    "xMatrix_al = xMatrix_al.T\n",
    "y = rasterio.open('data/Cu_aligned.tif') # effect\n",
    "yMatrix_al = y.read(1)\n",
    "yMatrix_al = yMatrix_al.T\n",
    "z = rasterio.open('data/nlights_aligned.tif') # cause\n",
    "zMatrix_al = z.read(1)\n",
    "zMatrix_al = zMatrix_al.T\n",
    "zMatrix_al = zMatrix_al.astype(float)"
   ]
  },
  {
   "cell_type": "code",
   "execution_count": 6,
   "id": "a2c763e5-1cc5-4c88-b46a-0274b96de746",
   "metadata": {},
   "outputs": [],
   "source": [
    "lib_sizes = np.arange(10,120,20)"
   ]
  },
  {
   "cell_type": "code",
   "execution_count": 10,
   "id": "7c28785c-ec88-4ee4-9275-8d6e274da7ae",
   "metadata": {},
   "outputs": [
    {
     "name": "stdout",
     "output_type": "stream",
     "text": [
      "x_xmap_y\n",
      "Constructing embedding\n",
      "y_xmap_x\n",
      "Constructing embedding\n"
     ]
    }
   ],
   "source": [
    "results_original = run_GCCM_corrected(zMatrix_al, yMatrix_al, lib_sizes, E=4, cores=6, outfile='Nresults_E4')"
   ]
  },
  {
   "cell_type": "code",
   "execution_count": 11,
   "id": "61d9ccf6-0a67-4140-8291-a215ad00db38",
   "metadata": {},
   "outputs": [
    {
     "name": "stdout",
     "output_type": "stream",
     "text": [
      "x_xmap_y\n",
      "Constructing embedding\n",
      "y_xmap_x\n",
      "Constructing embedding\n"
     ]
    }
   ],
   "source": [
    "results_sampling = run_GCCM_sampling(zMatrix_al, yMatrix_al, lib_sizes, E=4, cores=6, outfile='Nresults_E4_sampling')"
   ]
  }
 ],
 "metadata": {
  "kernelspec": {
   "display_name": "Python 3 (ipykernel)",
   "language": "python",
   "name": "python3"
  },
  "language_info": {
   "codemirror_mode": {
    "name": "ipython",
    "version": 3
   },
   "file_extension": ".py",
   "mimetype": "text/x-python",
   "name": "python",
   "nbconvert_exporter": "python",
   "pygments_lexer": "ipython3",
   "version": "3.10.12"
  }
 },
 "nbformat": 4,
 "nbformat_minor": 5
}
